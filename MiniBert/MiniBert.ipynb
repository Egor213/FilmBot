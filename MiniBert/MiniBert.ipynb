{
 "cells": [
  {
   "cell_type": "code",
   "execution_count": 231,
   "id": "6121e325-ebbf-4801-b82d-6d617b1d4955",
   "metadata": {},
   "outputs": [],
   "source": [
    "import torch\n",
    "import pandas as pd\n",
    "import numpy as np\n",
    "import matplotlib as mlt\n",
    "import re\n",
    "import math"
   ]
  },
  {
   "cell_type": "code",
   "execution_count": 106,
   "id": "177791c5-18dd-4608-9313-940a7fcf2304",
   "metadata": {},
   "outputs": [],
   "source": [
    "#get datasets\n",
    "imdb = pd.read_csv(\"../datasets/imdb.csv\")\n",
    "filmmv = pd.read_csv(\"../datasets/filmtv_movies.csv\")"
   ]
  },
  {
   "cell_type": "code",
   "execution_count": 295,
   "id": "ef6db67f-8cbc-4c3f-94c1-93a44bfc0bc6",
   "metadata": {},
   "outputs": [],
   "source": [
    "#tokenize sentences by words\n",
    "vocabluary = []\n",
    "sentences = []\n",
    "for i in range(len(filmmv)):\n",
    "    try:\n",
    "        vocabluary.extend(list(map(lambda x:x.lower(),filmmv[\"description\"][i].split())))\n",
    "        sentences.append(filmmv[\"description\"][i])\n",
    "    except:\n",
    "        continue\n",
    "vocabluary = list(set(vocabluary))\n",
    "\n",
    "dict = {}\n",
    "maxx = len(max(sentences,key=len).split())\n",
    "for i in range(len(vocabluary)):\n",
    "    dict.update({vocabluary[i]:i+1})\n",
    "index = 0\n",
    "tokenize_sentences = np.zeros([maxx])\n",
    "for i in range(100):\n",
    "    temp = sentences[i].split()\n",
    "    temp_tokenize_sentences = np.zeros([maxx])\n",
    "    for word in range(len(temp)):\n",
    "        temp_val = dict[temp[word].lower()]\n",
    "        np.put(temp_tokenize_sentences,(0,word), temp_val)\n",
    "    tokenize_sentences = np.vstack((tokenize_sentences, temp_tokenize_sentences))\n"
   ]
  },
  {
   "cell_type": "code",
   "execution_count": 296,
   "id": "2daf3cf8-edbe-4682-a84d-50e4bcc49908",
   "metadata": {},
   "outputs": [
    {
     "data": {
      "text/plain": [
       "array([[     0.,      0.,      0., ...,      0.,      0.,      0.],\n",
       "       [ 47317.,  94914.,  75533., ...,      0.,      0.,      0.],\n",
       "       [ 84971.,  68503., 123900., ...,      0.,      0.,      0.],\n",
       "       ...,\n",
       "       [ 78473.,  81888., 123826., ...,      0.,      0.,      0.],\n",
       "       [108129.,  73334.,  14704., ...,      0.,      0.,      0.],\n",
       "       [ 91483.,  39606.,  75524., ...,      0.,      0.,      0.]])"
      ]
     },
     "execution_count": 296,
     "metadata": {},
     "output_type": "execute_result"
    }
   ],
   "source": [
    "#100 tokenize sentences \n",
    "tokenize_sentences"
   ]
  },
  {
   "cell_type": "code",
   "execution_count": 297,
   "id": "2c3502cd-23ce-44c8-b268-f1d10d357f96",
   "metadata": {},
   "outputs": [],
   "source": [
    "def softmax(input_arr):\n",
    "    all_sum = sum(input_arr)\n",
    "    for i in range(len(input_arr)):\n",
    "        if input_arr[i] == 0:\n",
    "            input_arr[i] == 0\n",
    "        else:\n",
    "            temp = input_arr[i]\n",
    "            input_arr[i] = temp/all_sum\n",
    "    \n",
    "    return input_arr"
   ]
  },
  {
   "cell_type": "code",
   "execution_count": 298,
   "id": "7b95dc02-bdda-4941-8bbc-df84ca2c4959",
   "metadata": {},
   "outputs": [
    {
     "name": "stdout",
     "output_type": "stream",
     "text": [
      "[0.01038177 0.02082497 0.01657261 0.02400618 0.00974921 0.00510477\n",
      " 0.01255831 0.01221932 0.00617175 0.01964565 0.00510477 0.00731729\n",
      " 0.01497224 0.02217127 0.02847993 0.0272723  0.01139061 0.0195219\n",
      " 0.02591263 0.00311626 0.00347368 0.01991135 0.00289927 0.00422691\n",
      " 0.02388507 0.01531057 0.00831011 0.00347368 0.00351669 0.01534195\n",
      " 0.00831011 0.01030629 0.02311977 0.00831011 0.01697369 0.00383198\n",
      " 0.00347368 0.02840226 0.02653926 0.01223292 0.02827171 0.01750861\n",
      " 0.00311626 0.02219518 0.00222086 0.01810474 0.01964565 0.00970489\n",
      " 0.01118876 0.00831011 0.00510477 0.00474252 0.0210005  0.00954187\n",
      " 0.02699848 0.02313579 0.01444939 0.01937073 0.01444939 0.01657064\n",
      " 0.00640959 0.02554182 0.01938104 0.01050815 0.0024881  0.01839963\n",
      " 0.01444939 0.00114466 0.01964565 0.00692608 0.01964565 0.00510455\n",
      " 0.01038177 0.         0.         0.         0.         0.\n",
      " 0.         0.         0.         0.         0.         0.\n",
      " 0.         0.         0.         0.         0.         0.\n",
      " 0.         0.         0.         0.         0.         0.\n",
      " 0.         0.         0.         0.         0.         0.\n",
      " 0.         0.         0.         0.         0.         0.\n",
      " 0.         0.         0.         0.         0.         0.\n",
      " 0.         0.         0.         0.         0.         0.\n",
      " 0.         0.         0.         0.         0.         0.\n",
      " 0.         0.         0.         0.         0.         0.\n",
      " 0.         0.         0.         0.         0.         0.\n",
      " 0.         0.         0.         0.         0.         0.\n",
      " 0.         0.         0.         0.         0.         0.\n",
      " 0.         0.         0.         0.         0.         0.\n",
      " 0.         0.         0.         0.         0.         0.\n",
      " 0.         0.         0.         0.         0.         0.\n",
      " 0.         0.         0.         0.         0.         0.\n",
      " 0.         0.         0.         0.         0.         0.\n",
      " 0.         0.         0.         0.         0.         0.\n",
      " 0.         0.         0.         0.         0.         0.\n",
      " 0.         0.         0.         0.         0.         0.\n",
      " 0.         0.         0.         0.         0.         0.\n",
      " 0.         0.         0.         0.         0.         0.\n",
      " 0.         0.         0.         0.         0.         0.\n",
      " 0.         0.         0.         0.         0.         0.\n",
      " 0.         0.         0.         0.         0.         0.\n",
      " 0.         0.         0.         0.         0.         0.\n",
      " 0.         0.         0.         0.         0.         0.\n",
      " 0.         0.         0.         0.         0.         0.\n",
      " 0.         0.         0.         0.         0.         0.\n",
      " 0.         0.         0.         0.         0.         0.\n",
      " 0.         0.         0.         0.         0.         0.\n",
      " 0.         0.         0.         0.         0.         0.\n",
      " 0.         0.         0.         0.         0.         0.\n",
      " 0.         0.         0.         0.         0.         0.\n",
      " 0.         0.         0.         0.         0.         0.\n",
      " 0.         0.         0.         0.         0.         0.\n",
      " 0.         0.         0.         0.         0.         0.\n",
      " 0.         0.         0.         0.         0.         0.\n",
      " 0.         0.         0.         0.         0.         0.\n",
      " 0.         0.         0.         0.         0.         0.\n",
      " 0.         0.         0.         0.         0.         0.\n",
      " 0.         0.         0.         0.         0.         0.\n",
      " 0.         0.         0.         0.         0.         0.\n",
      " 0.         0.         0.         0.         0.         0.\n",
      " 0.         0.         0.         0.         0.         0.\n",
      " 0.         0.         0.         0.         0.         0.\n",
      " 0.         0.         0.         0.         0.         0.\n",
      " 0.         0.         0.         0.         0.         0.\n",
      " 0.         0.         0.         0.         0.         0.\n",
      " 0.         0.         0.         0.         0.         0.\n",
      " 0.         0.         0.         0.         0.         0.\n",
      " 0.         0.         0.         0.         0.         0.\n",
      " 0.         0.         0.         0.         0.         0.\n",
      " 0.         0.         0.         0.         0.         0.\n",
      " 0.         0.         0.         0.         0.         0.\n",
      " 0.         0.         0.         0.         0.         0.\n",
      " 0.         0.         0.         0.         0.         0.\n",
      " 0.         0.         0.         0.         0.         0.\n",
      " 0.         0.         0.         0.         0.         0.\n",
      " 0.         0.         0.         0.         0.         0.\n",
      " 0.         0.         0.         0.         0.         0.\n",
      " 0.         0.         0.         0.         0.         0.\n",
      " 0.         0.         0.         0.         0.         0.\n",
      " 0.         0.         0.         0.         0.         0.\n",
      " 0.         0.         0.         0.         0.         0.\n",
      " 0.         0.         0.         0.         0.         0.\n",
      " 0.         0.         0.         0.         0.         0.\n",
      " 0.         0.         0.         0.         0.         0.\n",
      " 0.         0.         0.         0.         0.         0.\n",
      " 0.         0.         0.         0.         0.         0.\n",
      " 0.         0.         0.         0.         0.         0.\n",
      " 0.         0.         0.         0.         0.         0.\n",
      " 0.         0.         0.         0.         0.         0.\n",
      " 0.         0.         0.         0.         0.         0.\n",
      " 0.         0.         0.         0.         0.         0.\n",
      " 0.         0.         0.         0.         0.         0.\n",
      " 0.         0.         0.         0.         0.         0.\n",
      " 0.         0.         0.         0.         0.         0.\n",
      " 0.         0.         0.         0.         0.         0.\n",
      " 0.         0.         0.         0.         0.         0.\n",
      " 0.         0.         0.         0.         0.         0.\n",
      " 0.         0.         0.         0.         0.         0.\n",
      " 0.         0.         0.         0.         0.         0.\n",
      " 0.         0.         0.         0.         0.         0.\n",
      " 0.         0.         0.         0.         0.         0.\n",
      " 0.         0.         0.         0.         0.         0.\n",
      " 0.         0.         0.         0.         0.         0.\n",
      " 0.         0.         0.         0.         0.         0.\n",
      " 0.         0.         0.         0.         0.         0.\n",
      " 0.         0.         0.         0.         0.         0.\n",
      " 0.        ]\n"
     ]
    }
   ],
   "source": [
    "print(softmax(tokenize_sentences[1]))"
   ]
  },
  {
   "cell_type": "code",
   "execution_count": null,
   "id": "188e0308-1aea-43cf-9051-7121cc29a8ac",
   "metadata": {},
   "outputs": [],
   "source": []
  }
 ],
 "metadata": {
  "kernelspec": {
   "display_name": "Python 3 (ipykernel)",
   "language": "python",
   "name": "python3"
  },
  "language_info": {
   "codemirror_mode": {
    "name": "ipython",
    "version": 3
   },
   "file_extension": ".py",
   "mimetype": "text/x-python",
   "name": "python",
   "nbconvert_exporter": "python",
   "pygments_lexer": "ipython3",
   "version": "3.11.5"
  }
 },
 "nbformat": 4,
 "nbformat_minor": 5
}
