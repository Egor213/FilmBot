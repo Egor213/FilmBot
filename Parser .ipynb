{
 "cells": [
  {
   "cell_type": "code",
   "execution_count": 178,
   "id": "fde2f6f2",
   "metadata": {},
   "outputs": [],
   "source": [
    "from urllib.request import urlopen\n",
    "from bs4 import BeautifulSoup\n",
    "import re\n",
    "import csv\n",
    "import pandas as pd"
   ]
  },
  {
   "cell_type": "code",
   "execution_count": 179,
   "id": "717e0f00",
   "metadata": {},
   "outputs": [],
   "source": [
    "quest_link = 'https://otvet.mail.ru/question/48479555'\n",
    "inner_html_code = str(urlopen(quest_link).read(),'utf-8') #По факту Арс засунь этот весь код в функцию, и тут ток ссылку менять"
   ]
  },
  {
   "cell_type": "code",
   "execution_count": 180,
   "id": "4704d27a",
   "metadata": {},
   "outputs": [],
   "source": [
    "inner_soup = BeautifulSoup(inner_html_code, \"html.parser\")"
   ]
  },
  {
   "cell_type": "code",
   "execution_count": 181,
   "id": "cf24caac",
   "metadata": {},
   "outputs": [
    {
     "data": {
      "text/plain": [
       "'\\n        {\"@context\":\"https://schema.org\",\"@graph\":[{\"@type\":\"QAPage\",\"mainEntity\":{\"@type\":\"Question\",\"name\":\"Помогите найти фильм по описанию сюжета!\",\"text\":\"Давным-давно смотрела фильм, название которого не могу вспомнить. Год выхода тоже не знаю, но думаю, конец 90-х, начало 2000-х. Американский вроде бы. Вкратце сюжет таков. Молодая женщина, у которой есть дочь лет 3-4 в один прекрасный день просыпается и не узнаёт свой дом: не её одежда, не её мебель и т. д. Самое главное, что нет её дочери. Все окружающие говорят ей, что у неё никогда не было детей. Однажды она проходит мимо чужого дома и видит свою дочь, вместе с которой чужая женщина. Она, естественно, пытается дочь забрать, но сама девочка её не узнаёт. Все друзья\\\\\\\\знакомые считают, что она сошла с ума. В общем, оказывается, что она каким-то образом попала в параллельную реальность, в которой всё по-другому. Кто-то ей подсказывает, что нужно вспомнить, что она делала в день, перед которым всё изменилось. Она говорит, что ходила с дочерью на ярмарку, на которой были карусели. Чтобы всё встало на свои места, нужно прийти к той карусели, там она, если увидит дочь и заберёт её, вернёт свою прежнюю жизнь. Очень надеюсь на вашу помощь! Спасибо!\",\"author\":{\"@type\":\"Person\",\"name\":\"Катя Орлова\"},\"dateCreated\":\"2010-11-14T14:24:21+03:00\",\"answerCount\":11,\"upvoteCount\":3,\"acceptedAnswer\":{\"@type\":\"Answer\",\"text\":\"\\\\\"Скольжение/Nightmare Street\\\\\" \\\\n \\\\nСкачать)\",\"dateCreated\":\"2010-11-14T14:30:47+03:00\",\"upvoteCount\":2,\"author\":{\"@type\":\"Person\",\"name\":\"~Irene~\"},\"url\":\"https://otvet.mail.ru/answer/280907042\"},\"suggestedAnswer\":[{\"@type\":\"Answer\",\"text\":\"сюда перейдешь там опишешь и тебе ответят\",\"dateCreated\":\"2010-11-14T14:25:51+03:00\",\"upvoteCount\":0,\"author\":{\"@type\":\"Person\",\"name\":\"Евгений Шам\"},\"url\":\"https://otvet.mail.ru/answer/280906052\"},{\"@type\":\"Answer\",\"text\":\"Этот не знаю но посмотри на подобии \\\\\"Остров проклятых\\\\\" фильм очень запутанный с первого раза не поймёшь\",\"dateCreated\":\"2010-11-14T14:25:52+03:00\",\"upvoteCount\":0,\"author\":{\"@type\":\"Person\",\"name\":\"Игорь Мочалов\"},\"url\":\"https://otvet.mail.ru/answer/280906055\"},{\"@type\":\"Answer\",\"text\":\"Теперь самой стало интерессно посмотреть ...\",\"dateCreated\":\"2010-11-14T14:27:15+03:00\",\"upvoteCount\":0,\"author\":{\"@type\":\"Person\",\"name\":\"Темный эЛьФ\"},\"url\":\"https://otvet.mail.ru/answer/280906323\"},{\"@type\":\"Answer\",\"text\":\"Скольжение http://movie.peoples.ru/1998/nightmare_street/\",\"dateCreated\":\"2010-11-14T14:38:13+03:00\",\"upvoteCount\":0,\"author\":{\"@type\":\"Person\",\"name\":\"anonimka\"},\"url\":\"https://otvet.mail.ru/answer/280908602\"},{\"@type\":\"Answer\",\"text\":\"Не помню название, но этот фильм с Джулианной Мур в главной роли!)))\",\"dateCreated\":\"2010-11-14T17:58:28+03:00\",\"upvoteCount\":0,\"author\":{\"@type\":\"Person\",\"name\":\"Юлия Кругликова\"},\"url\":\"https://otvet.mail.ru/answer/280952699\"},{\"@type\":\"Answer\",\"text\":\"Помогите найти фильм, две бабушки подруги ухаживают за могилкой неизвестного солдата.\",\"dateCreated\":\"2016-11-13T12:14:02+03:00\",\"upvoteCount\":0,\"author\":{\"@type\":\"Person\",\"name\":\"Елена Морозова\"},\"url\":\"https://otvet.mail.ru/answer/1843807572\"},{\"@type\":\"Answer\",\"text\":\"Помогите найти фильм бизнес леди хочет родить для себя ребенка для этого она наняла музыканта тот посилился у ее квартире\",\"dateCreated\":\"2017-01-10T21:12:47+03:00\",\"upvoteCount\":0,\"author\":{\"@type\":\"Person\",\"name\":\"Сергей Булавка\"},\"url\":\"https://otvet.mail.ru/answer/1852523012\"},{\"@type\":\"Answer\",\"text\":\"Скольжение (1998)\",\"dateCreated\":\"2017-08-22T01:26:58+03:00\",\"upvoteCount\":0,\"author\":{\"@type\":\"Person\",\"name\":\"Лень\"},\"url\":\"https://otvet.mail.ru/answer/1878958655\"},{\"@type\":\"Answer\",\"text\":\"Здравствуйте, помогите найти, пожалуйста, фильм! Смотрела давно где с 2010 года. Запомнился сильно, название вспомнить не могу.\\\\nСюжет: Одна девушка живёт с отцом и матерью, а также с братом и сестрой. Решили они (брат и сестра) пошутить над ней и денег заработать. Сняли видео где, как бы похитили сестру, выкуп требую. У главной героини (имя вообще не кого не помню) столько денег нет. И она решает пойти на проституцию. Там она переспала с одним олигархов, от которого потом забеременела. Отец и мать узнают об этом, выгоняют её из дома. Она работает учителем в школе, в которую переезжает тот самый олигарх. Он узнает, что это его ребёнок, предлагая при этом свою помощь. Она отвергает его, но потом принимает. Он в это время должен был жениться на дочке другого олигарха. Скрывая свадьбу, главный герой ухаживает за той девушкой, влюбляются они друг в друга. Живут долго и счастливо.\\\\nВсё конец. Помогите, если сможете, пожалуйста.\",\"dateCreated\":\"2018-10-04T07:02:04+03:00\",\"upvoteCount\":0,\"author\":{\"@type\":\"Person\",\"name\":\"Дарья Давыдова\"},\"url\":\"https://otvet.mail.ru/answer/1923000597\"},{\"@type\":\"Answer\",\"text\":\"Здравствуйте всем\\\\nПомогите найти старенький фильм/сериал руский\\\\nОна далеко не красавица жила в старенькой квартире, он раздражающий сосед, которого она приютила, спасая от бандитов или коллекторов......в итоге любовь\\\\nМожет кто распознает \\\\nЗаранее спасибо\",\"dateCreated\":\"2022-08-06T09:51:22+03:00\",\"upvoteCount\":0,\"author\":{\"@type\":\"Person\",\"name\":\"Саша Ворон\"},\"url\":\"https://otvet.mail.ru/answer/2016223497\"}]}},{\"@type\":\"BreadcrumbList\",\"itemListElement\":[{\"@type\":\"ListItem\",\"position\":1,\"item\":{\"@id\":\"https://otvet.mail.ru/culture/\",\"name\":\"Искусство и Культура\"}},{\"@type\":\"ListItem\",\"position\":2,\"item\":{\"@id\":\"https://otvet.mail.ru/drama/\",\"name\":\"Кино, Театр\"}}]}]}\\n\\n    '"
      ]
     },
     "execution_count": 181,
     "metadata": {},
     "output_type": "execute_result"
    }
   ],
   "source": [
    "inner_soup = inner_soup.find('script', {'type':'application/ld+json'})\n",
    "text = str(inner_soup.get_text()) # found block we convert to string, next step it's just work with string\n",
    "text"
   ]
  },
  {
   "cell_type": "code",
   "execution_count": 182,
   "id": "fdb2d5fd",
   "metadata": {},
   "outputs": [],
   "source": [
    "def delit(string):\n",
    "    string = string.replace(\":\",\"\")\n",
    "    string = string.replace(\"'\",\"\")\n",
    "    string = string.replace('\"',\"\")\n",
    "    string = string[4:]\n",
    "    string = string[:-1]\n",
    "    return string"
   ]
  },
  {
   "cell_type": "code",
   "execution_count": 183,
   "id": "5987f252",
   "metadata": {},
   "outputs": [
    {
     "data": {
      "text/plain": [
       "['Давным-давно смотрела фильм, название которого не могу вспомнить. Год выхода тоже не знаю, но думаю, конец 90-х, начало 2000-х. Американский вроде бы. Вкратце сюжет таков. Молодая женщина',\n",
       " '\\\\Скольжение/Nightmare Street\\\\ \\\\n \\\\nСкачать)',\n",
       " 'сюда перейдешь там опишешь и тебе ответят',\n",
       " 'Этот не знаю но посмотри на подобии \\\\Остров проклятых\\\\ фильм очень запутанный с первого раза не поймёшь',\n",
       " 'Теперь самой стало интерессно посмотреть ...',\n",
       " 'Не помню название, но этот фильм с Джулианной Мур в главной роли!)))',\n",
       " 'Помогите найти фильм, две бабушки подруги ухаживают за могилкой неизвестного солдата.',\n",
       " 'Помогите найти фильм бизнес леди хочет родить для себя ребенка для этого она наняла музыканта тот посилился у ее квартире',\n",
       " 'Скольжение (1998)',\n",
       " 'Здравствуйте, помогите найти, пожалуйста, фильм! Смотрела давно где с 2010 года. Запомнился сильно',\n",
       " 'Здравствуйте всем\\\\nПомогите найти старенький фильм/сериал руский\\\\nОна далеко не красавица жила в старенькой квартире, он раздражающий сосед, которого она приютила, спасая от бандитов или коллекторов......в итоге любовь\\\\nМожет кто распознает \\\\nЗаранее спасибо']"
      ]
     },
     "execution_count": 183,
     "metadata": {},
     "output_type": "execute_result"
    }
   ],
   "source": [
    "reviews_answers = list(re.findall(r'text\\\":\\\"[\\\\а-яА-ЯёЁ \\d()\\,\\-!\\.\"a-zA-Z\\/]*,',text)) #first element - quest, second - review, third - best answer, another - answers\n",
    "sort_reviews_answers = list(map(delit, reviews_answers)) #del trash\n",
    "quest = str(list(re.findall(r'name\":\\\"[а-яА-Я \\d()?!]*\\\"\\,\\\"text\\\"',text)))\n",
    "quest = list(re.findall(r'[а-яА-Я]{1,}',quest))\n",
    "final_quest =' '.join(quest)\n",
    "review = sort_reviews_answers[0]\n",
    "best_answer = sort_reviews_answers[1] # в mail вопросах наилучший самый первый\n",
    "another = sort_reviews_answers[2:]\n",
    "sort_reviews_answers\n",
    "#text\\\":\\\"[а-яА-Я \\d()]*\\\"\n",
    "#"
   ]
  },
  {
   "cell_type": "code",
   "execution_count": 184,
   "id": "52227537",
   "metadata": {},
   "outputs": [],
   "source": [
    "header = ['Quest','Review','Popular','Another','Questslink']\n",
    "data = [final_quest, review, best_answer, another, quest_link]\n",
    "with open('Mailreview.csv', 'w', encoding='UTF8') as f:\n",
    "    writer = csv.writer(f)\n",
    "    writer.writerow(header)\n",
    "    writer.writerow(data)"
   ]
  },
  {
   "cell_type": "code",
   "execution_count": 185,
   "id": "3895c8ef",
   "metadata": {},
   "outputs": [
    {
     "data": {
      "text/html": [
       "<div>\n",
       "<style scoped>\n",
       "    .dataframe tbody tr th:only-of-type {\n",
       "        vertical-align: middle;\n",
       "    }\n",
       "\n",
       "    .dataframe tbody tr th {\n",
       "        vertical-align: top;\n",
       "    }\n",
       "\n",
       "    .dataframe thead th {\n",
       "        text-align: right;\n",
       "    }\n",
       "</style>\n",
       "<table border=\"1\" class=\"dataframe\">\n",
       "  <thead>\n",
       "    <tr style=\"text-align: right;\">\n",
       "      <th></th>\n",
       "      <th>Quest</th>\n",
       "      <th>Review</th>\n",
       "      <th>Popular</th>\n",
       "      <th>Another</th>\n",
       "      <th>Questslink</th>\n",
       "    </tr>\n",
       "  </thead>\n",
       "  <tbody>\n",
       "    <tr>\n",
       "      <th>0</th>\n",
       "      <td>Помогите найти фильм по описанию сюжета</td>\n",
       "      <td>Давным-давно смотрела фильм, название которого...</td>\n",
       "      <td>\\Скольжение/Nightmare Street\\ \\n \\nСкачать)</td>\n",
       "      <td>['сюда перейдешь там опишешь и тебе ответят', ...</td>\n",
       "      <td>https://otvet.mail.ru/question/48479555</td>\n",
       "    </tr>\n",
       "  </tbody>\n",
       "</table>\n",
       "</div>"
      ],
      "text/plain": [
       "                                     Quest  \\\n",
       "0  Помогите найти фильм по описанию сюжета   \n",
       "\n",
       "                                              Review  \\\n",
       "0  Давным-давно смотрела фильм, название которого...   \n",
       "\n",
       "                                       Popular  \\\n",
       "0  \\Скольжение/Nightmare Street\\ \\n \\nСкачать)   \n",
       "\n",
       "                                             Another  \\\n",
       "0  ['сюда перейдешь там опишешь и тебе ответят', ...   \n",
       "\n",
       "                                Questslink  \n",
       "0  https://otvet.mail.ru/question/48479555  "
      ]
     },
     "execution_count": 185,
     "metadata": {},
     "output_type": "execute_result"
    }
   ],
   "source": [
    "file = pd.read_csv('Mailreview.csv')\n",
    "file"
   ]
  },
  {
   "cell_type": "code",
   "execution_count": null,
   "id": "46077c28",
   "metadata": {},
   "outputs": [],
   "source": []
  },
  {
   "cell_type": "code",
   "execution_count": null,
   "id": "ff274a4e",
   "metadata": {},
   "outputs": [],
   "source": []
  },
  {
   "cell_type": "code",
   "execution_count": null,
   "id": "33befd63",
   "metadata": {},
   "outputs": [],
   "source": []
  }
 ],
 "metadata": {
  "kernelspec": {
   "display_name": "Python 3 (ipykernel)",
   "language": "python",
   "name": "python3"
  },
  "language_info": {
   "codemirror_mode": {
    "name": "ipython",
    "version": 3
   },
   "file_extension": ".py",
   "mimetype": "text/x-python",
   "name": "python",
   "nbconvert_exporter": "python",
   "pygments_lexer": "ipython3",
   "version": "3.11.3"
  }
 },
 "nbformat": 4,
 "nbformat_minor": 5
}
