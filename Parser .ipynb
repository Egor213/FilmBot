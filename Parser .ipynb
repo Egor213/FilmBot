{
 "cells": [
  {
   "cell_type": "code",
   "execution_count": 125,
   "id": "fde2f6f2",
   "metadata": {},
   "outputs": [],
   "source": [
    "from urllib.request import urlopen\n",
    "from bs4 import BeautifulSoup\n",
    "import re\n",
    "import csv\n",
    "import pandas as pd"
   ]
  },
  {
   "cell_type": "code",
   "execution_count": 126,
   "id": "717e0f00",
   "metadata": {},
   "outputs": [],
   "source": [
    "inner_html_code = str(urlopen('https://otvet.mail.ru/question/234502182').read(),'utf-8') #По факту Арс засунь этот весь код в функцию, и тут ток ссылку менять"
   ]
  },
  {
   "cell_type": "code",
   "execution_count": 127,
   "id": "4704d27a",
   "metadata": {},
   "outputs": [],
   "source": [
    "inner_soup = BeautifulSoup(inner_html_code, \"html.parser\")"
   ]
  },
  {
   "cell_type": "code",
   "execution_count": 128,
   "id": "cf24caac",
   "metadata": {},
   "outputs": [
    {
     "data": {
      "text/plain": [
       "'\\n        {\"@context\":\"https://schema.org\",\"@graph\":[{\"@type\":\"QAPage\",\"mainEntity\":{\"@type\":\"Question\",\"name\":\"Помогите найти фильм\",\"text\":\"Фильм ребята поехали отдыхать компанией в лес вроде но там было 2 музыка и они думали что они хотели их убить ну или думали что они маньяки и (типо эти маньяки умерли тупо один помню что умер в штуке которая опилки с дерева рубит что то такое помогите найти плиз\",\"author\":{\"@type\":\"Person\",\"name\":\"Родион Берляков\"},\"dateCreated\":\"2023-08-09T00:09:41+03:00\",\"answerCount\":15,\"upvoteCount\":1,\"acceptedAnswer\":{\"@type\":\"Answer\",\"text\":\"чипалино\",\"dateCreated\":\"2023-08-09T00:10:01+03:00\",\"upvoteCount\":0,\"author\":{\"@type\":\"Person\",\"name\":\"покрышка гираскутера\"},\"url\":\"https://otvet.mail.ru/answer/2037380094\"},\"suggestedAnswer\":[{\"@type\":\"Answer\",\"text\":\"Чикатило\",\"dateCreated\":\"2023-08-09T00:09:54+03:00\",\"upvoteCount\":1,\"author\":{\"@type\":\"Person\",\"name\":\"Mister Cider\"},\"url\":\"https://otvet.mail.ru/answer/2037380085\"},{\"@type\":\"Answer\",\"text\":\"Форсаж\",\"dateCreated\":\"2023-08-09T00:09:57+03:00\",\"upvoteCount\":0,\"author\":{\"@type\":\"Person\",\"name\":\"Маруся ФМ Бабушкин сундук\"},\"url\":\"https://otvet.mail.ru/answer/2037380090\"},{\"@type\":\"Answer\",\"text\":\"Техасская резня бензопилой\",\"dateCreated\":\"2023-08-09T00:10:13+03:00\",\"upvoteCount\":0,\"author\":{\"@type\":\"Person\",\"name\":\"Iskander Masharibov Мозг\"},\"url\":\"https://otvet.mail.ru/answer/2037380101\"},{\"@type\":\"Answer\",\"text\":\"Поворот не туда ?\",\"dateCreated\":\"2023-08-09T00:11:44+03:00\",\"upvoteCount\":0,\"author\":{\"@type\":\"Person\",\"name\":\"Иван Рудин\"},\"url\":\"https://otvet.mail.ru/answer/2037380176\"},{\"@type\":\"Answer\",\"text\":\"Убойные  Каникулы\",\"dateCreated\":\"2023-08-09T00:29:05+03:00\",\"upvoteCount\":0,\"author\":{\"@type\":\"Person\",\"name\":\"манул\"},\"url\":\"https://otvet.mail.ru/answer/2037380867\"},{\"@type\":\"Answer\",\"text\":\"Убойные Каникулы\",\"dateCreated\":\"2023-08-09T04:51:51+03:00\",\"upvoteCount\":1,\"author\":{\"@type\":\"Person\",\"name\":\"ыыы ыыы\"},\"url\":\"https://otvet.mail.ru/answer/2037386828\"},{\"@type\":\"Answer\",\"text\":\"Убойные каникулы\",\"dateCreated\":\"2023-08-11T22:55:48+03:00\",\"upvoteCount\":1,\"author\":{\"@type\":\"Person\",\"name\":\"Татьяна Новикова\"},\"url\":\"https://otvet.mail.ru/answer/2037556662\"},{\"@type\":\"Answer\",\"text\":\"убойные каникулы - ужасы комедия\",\"dateCreated\":\"2023-08-12T11:50:04+03:00\",\"upvoteCount\":0,\"author\":{\"@type\":\"Person\",\"name\":\"маша  моисеева\"},\"url\":\"https://otvet.mail.ru/answer/2037579088\"},{\"@type\":\"Answer\",\"text\":\"1) Убойные каникулы;\\\\n2) Грибы 3D.\",\"dateCreated\":\"2023-08-14T04:31:12+03:00\",\"upvoteCount\":0,\"author\":{\"@type\":\"Person\",\"name\":\"arbaletgod\"},\"url\":\"https://otvet.mail.ru/answer/2037683627\"},{\"@type\":\"Answer\",\"text\":\"я хз\",\"dateCreated\":\"2023-08-18T09:53:31+03:00\",\"upvoteCount\":0,\"author\":{\"@type\":\"Person\",\"name\":\"Арсений Хворостяный\"},\"url\":\"https://otvet.mail.ru/answer/2037932523\"},{\"@type\":\"Answer\",\"text\":\"убойные каникулы\",\"dateCreated\":\"2023-08-22T21:44:33+03:00\",\"upvoteCount\":0,\"author\":{\"@type\":\"Person\",\"name\":\"FenZo\"},\"url\":\"https://otvet.mail.ru/answer/2038206180\"},{\"@type\":\"Answer\",\"text\":\"Убойные каникулы\",\"dateCreated\":\"2023-08-25T23:31:07+03:00\",\"upvoteCount\":0,\"author\":{\"@type\":\"Person\",\"name\":\"quazzi\"},\"url\":\"https://otvet.mail.ru/answer/2038389586\"},{\"@type\":\"Answer\",\"text\":\"Убойные каникулы\",\"dateCreated\":\"2023-08-28T14:45:46+03:00\",\"upvoteCount\":0,\"author\":{\"@type\":\"Person\",\"name\":\"слава шмагин\"},\"url\":\"https://otvet.mail.ru/answer/2038538459\"},{\"@type\":\"Answer\",\"text\":\"Убойные каникулы (2010) \\\\n https://www.kinopoisk.ru/film/485261/\",\"dateCreated\":\"2023-08-31T09:42:01+03:00\",\"upvoteCount\":0,\"author\":{\"@type\":\"Person\",\"name\":\"Assel Kadrik\"},\"url\":\"https://otvet.mail.ru/answer/2038702741\"}]}},{\"@type\":\"BreadcrumbList\",\"itemListElement\":[{\"@type\":\"ListItem\",\"position\":1,\"item\":{\"@id\":\"https://otvet.mail.ru/culture/\",\"name\":\"Искусство и Культура\"}},{\"@type\":\"ListItem\",\"position\":2,\"item\":{\"@id\":\"https://otvet.mail.ru/arts_other/\",\"name\":\"Прочие искусства\"}}]}]}\\n\\n    '"
      ]
     },
     "execution_count": 128,
     "metadata": {},
     "output_type": "execute_result"
    }
   ],
   "source": [
    "inner_soup = inner_soup.find('script', {'type':'application/ld+json'})\n",
    "text = str(inner_soup.get_text()) # found block we convert to string, next step it's just work with string\n",
    "text"
   ]
  },
  {
   "cell_type": "code",
   "execution_count": 129,
   "id": "fdb2d5fd",
   "metadata": {},
   "outputs": [],
   "source": [
    "def delit(string):\n",
    "    string = string.replace(\":\",\"\")\n",
    "    string = string.replace(\"'\",\"\")\n",
    "    string = string.replace('\"',\"\")\n",
    "    return string"
   ]
  },
  {
   "cell_type": "code",
   "execution_count": 130,
   "id": "5987f252",
   "metadata": {},
   "outputs": [],
   "source": [
    "reviews_answers = list(re.findall(r'\\\":\\\"[а-яА-Я \\d()]*\\\"',text)) #first element - quest, second - review, third - best answer, another - answers\n",
    "sort_reviews_answers = list(map(delit, reviews_answers)) #del trash\n",
    "quest = sort_reviews_answers[0]\n",
    "review = sort_reviews_answers[1]\n",
    "best_answer = sort_reviews_answers[2]\n",
    "another = str(list(map(delit, sort_reviews_answers[3:])))"
   ]
  },
  {
   "cell_type": "code",
   "execution_count": 131,
   "id": "52227537",
   "metadata": {},
   "outputs": [],
   "source": [
    "header = ['Quest', 'Review', 'Popular','Another']\n",
    "data = [quest, review, best_answer, another]\n",
    "with open('Mailreview.csv', 'w', encoding='UTF8') as f:\n",
    "    writer = csv.writer(f)\n",
    "    writer.writerow(header)\n",
    "    writer.writerow(data)\n"
   ]
  },
  {
   "cell_type": "code",
   "execution_count": 132,
   "id": "3895c8ef",
   "metadata": {},
   "outputs": [
    {
     "data": {
      "text/html": [
       "<div>\n",
       "<style scoped>\n",
       "    .dataframe tbody tr th:only-of-type {\n",
       "        vertical-align: middle;\n",
       "    }\n",
       "\n",
       "    .dataframe tbody tr th {\n",
       "        vertical-align: top;\n",
       "    }\n",
       "\n",
       "    .dataframe thead th {\n",
       "        text-align: right;\n",
       "    }\n",
       "</style>\n",
       "<table border=\"1\" class=\"dataframe\">\n",
       "  <thead>\n",
       "    <tr style=\"text-align: right;\">\n",
       "      <th></th>\n",
       "      <th>Quest</th>\n",
       "      <th>Review</th>\n",
       "      <th>Popular</th>\n",
       "      <th>Another</th>\n",
       "    </tr>\n",
       "  </thead>\n",
       "  <tbody>\n",
       "    <tr>\n",
       "      <th>0</th>\n",
       "      <td>Помогите найти фильм</td>\n",
       "      <td>Фильм ребята поехали отдыхать компанией в лес ...</td>\n",
       "      <td>Родион Берляков</td>\n",
       "      <td>['чипалино', 'покрышка гираскутера', 'Чикатило...</td>\n",
       "    </tr>\n",
       "  </tbody>\n",
       "</table>\n",
       "</div>"
      ],
      "text/plain": [
       "                  Quest                                             Review  \\\n",
       "0  Помогите найти фильм  Фильм ребята поехали отдыхать компанией в лес ...   \n",
       "\n",
       "           Popular                                            Another  \n",
       "0  Родион Берляков  ['чипалино', 'покрышка гираскутера', 'Чикатило...  "
      ]
     },
     "execution_count": 132,
     "metadata": {},
     "output_type": "execute_result"
    }
   ],
   "source": [
    "file = pd.read_csv('Mailreview.csv')\n",
    "file"
   ]
  },
  {
   "cell_type": "code",
   "execution_count": null,
   "id": "46077c28",
   "metadata": {},
   "outputs": [],
   "source": []
  },
  {
   "cell_type": "code",
   "execution_count": null,
   "id": "ff274a4e",
   "metadata": {},
   "outputs": [],
   "source": []
  },
  {
   "cell_type": "code",
   "execution_count": null,
   "id": "33befd63",
   "metadata": {},
   "outputs": [],
   "source": []
  }
 ],
 "metadata": {
  "kernelspec": {
   "display_name": "Python 3 (ipykernel)",
   "language": "python",
   "name": "python3"
  },
  "language_info": {
   "codemirror_mode": {
    "name": "ipython",
    "version": 3
   },
   "file_extension": ".py",
   "mimetype": "text/x-python",
   "name": "python",
   "nbconvert_exporter": "python",
   "pygments_lexer": "ipython3",
   "version": "3.11.2"
  }
 },
 "nbformat": 4,
 "nbformat_minor": 5
}
